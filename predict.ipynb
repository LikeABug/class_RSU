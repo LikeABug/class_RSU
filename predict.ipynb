{
  "nbformat": 4,
  "nbformat_minor": 0,
  "metadata": {
    "colab": {
      "name": "predict.ipynb",
      "provenance": [],
      "include_colab_link": true
    },
    "kernelspec": {
      "name": "python3",
      "display_name": "Python 3"
    }
  },
  "cells": [
    {
      "cell_type": "markdown",
      "metadata": {
        "id": "view-in-github",
        "colab_type": "text"
      },
      "source": [
        "<a href=\"https://colab.research.google.com/github/LikeABug/class_RSU/blob/main/predict.ipynb\" target=\"_parent\"><img src=\"https://colab.research.google.com/assets/colab-badge.svg\" alt=\"Open In Colab\"/></a>"
      ]
    },
    {
      "cell_type": "markdown",
      "metadata": {
        "id": "se6Fwk40520k"
      },
      "source": [
        "# Clasificación de RSU\n",
        "SCRIPT de predicción de clases\n",
        "La función **predict** recibe como argumento la ruta de un archivo tipo JPG o JPEG y devuelve, una matriz de resulados con la probabilidad de 0 - 1 de que la imagen en cuestion pertenezca a cada una de las cuatro clases, ademas devuelve la clase con mayor probabilidad e imprime la definicion de la clase:\n",
        "\n",
        "\n",
        "0.   Metal\n",
        "1.   Papel/Carton\n",
        "2.   Plastico\n",
        "3.   Vidrio"
      ]
    },
    {
      "cell_type": "code",
      "metadata": {
        "id": "ds2BUQdMyJf5",
        "colab": {
          "base_uri": "https://localhost:8080/"
        },
        "outputId": "aed060d9-f173-45d7-b941-19ee575da2df"
      },
      "source": [
        "#Celda para la ejecucion en google colab, con acceso a carpetas en drive\n",
        "\n",
        "from google.colab import drive\n",
        "drive.mount('/gdrive')\n",
        "%cd /gdrive"
      ],
      "execution_count": null,
      "outputs": [
        {
          "output_type": "stream",
          "text": [
            "Mounted at /gdrive\n",
            "/gdrive\n"
          ],
          "name": "stdout"
        }
      ]
    },
    {
      "cell_type": "markdown",
      "metadata": {
        "id": "9spjmcpA5yKr"
      },
      "source": [
        "### Incio de codigo\n",
        "---\n",
        "\n"
      ]
    },
    {
      "cell_type": "code",
      "metadata": {
        "id": "giXqNvdzyL6x"
      },
      "source": [
        "#Definición de librerias a usar\n",
        "#carga de pesos y modelo\n",
        "\n",
        "import numpy as np\n",
        "from keras.preprocessing.image import load_img, img_to_array\n",
        "from keras.models import load_model\n",
        "\n",
        "longitud, altura = 224, 224                                               #Dimenciones de la imagen\n",
        "filepath=\"/gdrive/My Drive/224pixel/checkpoints\"                          #Ruta de acceso al archivo de modelo de la red neuronal\n",
        "pesos_modelo = '/gdrive/My Drive/224pixel/prueba/model_Mobilenet.h5'      #path de acceso a los pesos de la red neuronal\n",
        "cnn = load_model(filepath)\n",
        "cnn.load_weights(pesos_modelo)\n"
      ],
      "execution_count": null,
      "outputs": []
    },
    {
      "cell_type": "code",
      "metadata": {
        "id": "eZmcr3-eyOIZ"
      },
      "source": [
        "#Se define la funcion predict\n",
        "\n",
        "def predict(file):\n",
        "\n",
        "  x = load_img(file, target_size=(longitud, altura))    #\n",
        "  x = img_to_array(x)                                   #  Preprocesamiento de la imagen de entrada\n",
        "  x = np.expand_dims(x, axis=0)                         #\n",
        "\n",
        "  array = cnn.predict(x)                                #  .predict pasa la imagen por la red neuronal para determinar la clase\n",
        "  result = array[0]                                                        #  a la que pertenece la imagen \n",
        "\n",
        "  \n",
        "#el argumento de la matriz con mayor probabilidad es la clase a la que pertenece la imagen\n",
        "  answer = np.argmax(result)\n",
        "  if answer == 0:\n",
        "    print(\"pred: metal\")\n",
        "  elif answer == 1:\n",
        "    print(\"pred: papel\")\n",
        "  elif answer == 2:\n",
        "    print(\"pred: plastico\")\n",
        "  elif answer == 3:\n",
        "    print(\"pred: vidrio\")\n",
        "\n",
        "  grafica(result)\n",
        "\n",
        "  return answer,result                                  #Se retorna la posicion de la clase con mayor probabilidad \n",
        "                                                        #y la matriz de resultados"
      ],
      "execution_count": null,
      "outputs": []
    },
    {
      "cell_type": "code",
      "metadata": {
        "id": "fqqCDyiVyYLW",
        "colab": {
          "base_uri": "https://localhost:8080/"
        },
        "outputId": "ab5c9389-a5d3-406f-8059-3d15c2092ad7"
      },
      "source": [
        "predict(\"/content/plastico (1).jpeg\")"
      ],
      "execution_count": null,
      "outputs": [
        {
          "output_type": "stream",
          "text": [
            "pred: plastico\n"
          ],
          "name": "stdout"
        },
        {
          "output_type": "display_data",
          "data": {
            "image/png": "[encoded data removed]",
            "text/plain": [
              "<Figure size 432x288 with 1 Axes>"
            ]
          },
          "metadata": {
            "tags": [],
            "needs_background": "light"
          }
        },
        {
          "output_type": "execute_result",
          "data": {
            "text/plain": [
              "(2, array([5.6108572e-03, 3.6306152e-04, 7.6949352e-01, 2.2453260e-01],\n",
              "       dtype=float32))"
            ]
          },
          "metadata": {
            "tags": []
          },
          "execution_count": 7
        }
      ]
    },
    {
      "cell_type": "code",
      "metadata": {
        "id": "JYC3sS2G-YgM"
      },
      "source": [
        "import matplotlib\n",
        "import matplotlib.pyplot as plt\n",
        "import numpy as np\n",
        "\n",
        "clases = [\"metal\", \"papel\", \"plastico\", \"vidrio\"]"
      ],
      "execution_count": null,
      "outputs": []
    },
    {
      "cell_type": "code",
      "metadata": {
        "id": "Wlzs5i_5S8Q2"
      },
      "source": [
        "def grafica(result):\n",
        "  fig, ax = plt.subplots()\n",
        "  #Colocamos una etiqueta en el eje Y\n",
        "  ax.set_ylabel('porcentaje')\n",
        "  #Colocamos una etiqueta en el eje X\n",
        "  ax.set_title('Clases')\n",
        "\n",
        "  plt.bar(clases, result)\n",
        "  #Finalmente mostramos la grafica con el metodo show()\n",
        "  plt.show()"
      ],
      "execution_count": null,
      "outputs": []
    }
  ]
}